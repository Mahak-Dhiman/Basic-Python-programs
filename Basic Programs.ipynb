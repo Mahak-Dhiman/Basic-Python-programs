{
 "cells": [
  {
   "cell_type": "code",
   "execution_count": 1,
   "metadata": {},
   "outputs": [
    {
     "name": "stdout",
     "output_type": "stream",
     "text": [
      "Hello, My name is ABC.\n"
     ]
    }
   ],
   "source": [
    "# Print Something\n",
    "print(\"Hello, My name is ABC.\")"
   ]
  },
  {
   "cell_type": "code",
   "execution_count": 2,
   "metadata": {},
   "outputs": [
    {
     "name": "stdout",
     "output_type": "stream",
     "text": [
      "Enter the first number: 2\n",
      "Ente the second number: 3\n",
      "Sum of the numbers a and b is:  5.0\n",
      "Subtraction of the numbers a and b is:  -1.0\n",
      "Division of the numbers a and b is:  0.6666666666666666\n",
      "Multiplication of the numbers a and b is:  6.0\n"
     ]
    }
   ],
   "source": [
    "#Arithmetic operations\n",
    "a= float(input(\"Enter the first number: \"))\n",
    "b= float(input(\"Ente the second number: \"))\n",
    "Sum= a+b\n",
    "Subtract= a-b\n",
    "Divide= a/b\n",
    "Multiply= a*b\n",
    "print(\"Sum of the numbers a and b is: \",Sum)\n",
    "print(\"Subtraction of the numbers a and b is: \",Subtract)\n",
    "print(\"Division of the numbers a and b is: \",Divide)\n",
    "print(\"Multiplication of the numbers a and b is: \",Multiply)"
   ]
  },
  {
   "cell_type": "code",
   "execution_count": 3,
   "metadata": {},
   "outputs": [
    {
     "name": "stdout",
     "output_type": "stream",
     "text": [
      "Enter the base side: 56\n",
      "Enter the height side: 23\n",
      "Area of Triangle is:  644.0\n"
     ]
    }
   ],
   "source": [
    "#Area of triangle\n",
    "a= float(input(\"Enter the base side: \"))\n",
    "b= float(input(\"Enter the height side: \"))\n",
    "Area= (a*b)/2\n",
    "print(\"Area of Triangle is: \",Area)"
   ]
  },
  {
   "cell_type": "code",
   "execution_count": 15,
   "metadata": {},
   "outputs": [
    {
     "name": "stdout",
     "output_type": "stream",
     "text": [
      "Enter the value of a: 4\n",
      "Enter the value of b: 4\n",
      "Enter the value of c: 1\n",
      "The roots are equal:  -1.8660254037844386 -1.8660254037844386\n"
     ]
    }
   ],
   "source": [
    "#Quadratic Equation\n",
    "import math \n",
    "a= float(input(\"Enter the value of a: \"))\n",
    "b= float(input(\"Enter the value of b: \"))\n",
    "c= float(input(\"Enter the value of c: \"))\n",
    "d=(pow(b,2)-(4*a*c))\n",
    "if d>0:\n",
    "    root1=(-b+ (math.sqrt(d)))/(2*a)\n",
    "    root2=(-b- (math.sqrt(d)))/(2*a)\n",
    "    print(\"The roots are real and distinct: \", root1, root2)\n",
    "elif d==0:\n",
    "    root1=root2\n",
    "    print(\"The roots are equal: \", root1, root2)\n",
    "elif d<0:\n",
    "    print(\"The roots are imaginary.\")\n",
    "else:\n",
    "    print(\"Invalid.\")"
   ]
  },
  {
   "cell_type": "code",
   "execution_count": 17,
   "metadata": {},
   "outputs": [
    {
     "name": "stdout",
     "output_type": "stream",
     "text": [
      "Enter the value of a: 1\n",
      "Enter the value of b: 2\n",
      "Swapped numbers are:  2.0 1.0\n"
     ]
    }
   ],
   "source": [
    "#Swap two variables\n",
    "a=float(input(\"Enter the value of a: \"))\n",
    "b=float(input(\"Enter the value of b: \"))\n",
    "a,b=b,a\n",
    "print(\"Swapped numbers are: \",a,b)"
   ]
  },
  {
   "cell_type": "code",
   "execution_count": 20,
   "metadata": {},
   "outputs": [
    {
     "data": {
      "text/plain": [
       "58"
      ]
     },
     "execution_count": 20,
     "metadata": {},
     "output_type": "execute_result"
    }
   ],
   "source": [
    "#Generate a random number\n",
    "import random\n",
    "random.randint(0,100)"
   ]
  },
  {
   "cell_type": "code",
   "execution_count": 22,
   "metadata": {},
   "outputs": [
    {
     "name": "stdout",
     "output_type": "stream",
     "text": [
      "Enter the value of kilometer which you want to convert: 52\n",
      "Miles  32.31124\n"
     ]
    }
   ],
   "source": [
    "#Convert kilometers to miles\n",
    "# 1km=0.62137 miles\n",
    "km= float(input(\"Enter the value of kilometer which you want to convert: \"))\n",
    "miles=(0.62137*km)\n",
    "print(\"Miles \",miles)"
   ]
  },
  {
   "cell_type": "code",
   "execution_count": 24,
   "metadata": {},
   "outputs": [
    {
     "name": "stdout",
     "output_type": "stream",
     "text": [
      "Enter temp in cel: 37\n",
      "Fahrenheit  98.60000000000001\n"
     ]
    }
   ],
   "source": [
    "#Convert Celsius to Fahrenheit\n",
    "cel= float(input(\"Enter temp in cel: \"))\n",
    "fah= (cel*1.8) +32\n",
    "print(\"Fahrenheit \", fah)"
   ]
  },
  {
   "cell_type": "code",
   "execution_count": 26,
   "metadata": {},
   "outputs": [
    {
     "name": "stdout",
     "output_type": "stream",
     "text": [
      "Enter the year: 2020\n",
      "Enter the month: 11\n",
      "   November 2020\n",
      "Mo Tu We Th Fr Sa Su\n",
      "                   1\n",
      " 2  3  4  5  6  7  8\n",
      " 9 10 11 12 13 14 15\n",
      "16 17 18 19 20 21 22\n",
      "23 24 25 26 27 28 29\n",
      "30\n",
      "\n"
     ]
    }
   ],
   "source": [
    "#Display Calendar\n",
    "import calendar\n",
    "year= int(input(\"Enter the year: \"))\n",
    "month= int(input(\"Enter the month: \"))\n",
    "print(calendar.month(year,month))\n"
   ]
  },
  {
   "cell_type": "code",
   "execution_count": null,
   "metadata": {},
   "outputs": [],
   "source": []
  }
 ],
 "metadata": {
  "kernelspec": {
   "display_name": "Python 3",
   "language": "python",
   "name": "python3"
  },
  "language_info": {
   "codemirror_mode": {
    "name": "ipython",
    "version": 3
   },
   "file_extension": ".py",
   "mimetype": "text/x-python",
   "name": "python",
   "nbconvert_exporter": "python",
   "pygments_lexer": "ipython3",
   "version": "3.7.6"
  }
 },
 "nbformat": 4,
 "nbformat_minor": 4
}
